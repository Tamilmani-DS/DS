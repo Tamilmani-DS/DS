{
  "nbformat": 4,
  "nbformat_minor": 0,
  "metadata": {
    "colab": {
      "provenance": [],
      "authorship_tag": "ABX9TyOGDoqni8DHgsOW/sgjOT4V",
      "include_colab_link": true
    },
    "kernelspec": {
      "name": "python3",
      "display_name": "Python 3"
    },
    "language_info": {
      "name": "python"
    }
  },
  "cells": [
    {
      "cell_type": "markdown",
      "metadata": {
        "id": "view-in-github",
        "colab_type": "text"
      },
      "source": [
        "<a href=\"https://colab.research.google.com/github/Tamilmani-DS/DS/blob/main/Python_Revision.ipynb\" target=\"_parent\"><img src=\"https://colab.research.google.com/assets/colab-badge.svg\" alt=\"Open In Colab\"/></a>"
      ]
    },
    {
      "cell_type": "markdown",
      "source": [],
      "metadata": {
        "id": "KE1bvC3pTCJZ"
      }
    },
    {
      "cell_type": "code",
      "source": [
        "def find_missing_number(arr):\n",
        "    n = len(arr) + 1  # Since one number is missing\n",
        "    total_sum = n * (n + 1) // 2  # Sum of first n natural numbers\n",
        "\n",
        "    array_sum = sum(arr)\n",
        "\n",
        "    return total_sum - array_sum\n",
        "\n",
        "# Example Usage:\n",
        "input_array = [3, 7, 1, 2, 8, 5, 9, 6, 4,10, 11, 12, 13, 14, 15, 16, 17, 18, 19, 20, 21, 22, 23, 24, 25, 26, 27, 28, 29, 30, 31, 32, 33, 34, 35, 36, 37, 38, 39, 40, 41, 42, 43, 44, 45, 46, 47, 48, 49, 50, 51, 52, 53, 54, 55, 56, 57, 58, 59, 60, 61, 62, 63, 64, 65, 66, 67, 68, 69, 70, 71, 72, 73, 74, 75, 76, 77, 78, 79, 80, 81, 82, 83, 84, 85, 86, 87, 88, 90, 91, 92, 93, 94, 95, 96, 97, 98, 99, 100]\n",
        "result = find_missing_number(input_array)\n",
        "print(\"Missing Number:\", result)"
      ],
      "metadata": {
        "id": "COqmlxfTOBK6",
        "colab": {
          "base_uri": "https://localhost:8080/"
        },
        "outputId": "58cc9b99-d735-41e4-b621-722b558c0ca8"
      },
      "execution_count": 1,
      "outputs": [
        {
          "output_type": "stream",
          "name": "stdout",
          "text": [
            "Missing Number: 89\n"
          ]
        }
      ]
    },
    {
      "cell_type": "code",
      "source": [
        "def common_characters(str1, str2):\n",
        "    set1 = set(str1.replace(\" \", \"\"))\n",
        "    set2 = set(str2.replace(\" \", \"\"))\n",
        "\n",
        "    common_chars = set1.intersection(set2)\n",
        "\n",
        "    if not common_chars:\n",
        "        return -1\n",
        "    else:\n",
        "        return ''.join(sorted(common_chars))\n",
        "\n",
        "# Example Usage:\n",
        "input_str1 = \"I like Python\"\n",
        "input_str2 = \"Java is a very popular language\"\n",
        "output = common_characters(input_str1, input_str2)\n",
        "\n",
        "print(\"Common Characters:\", output)"
      ],
      "metadata": {
        "id": "rfZmR2H9qIPB",
        "colab": {
          "base_uri": "https://localhost:8080/"
        },
        "outputId": "c9ff563a-d732-45f9-b114-59a7183ab751"
      },
      "execution_count": 2,
      "outputs": [
        {
          "output_type": "stream",
          "name": "stdout",
          "text": [
            "Common Characters: eilnoy\n"
          ]
        }
      ]
    },
    {
      "cell_type": "code",
      "source": [
        "def reverse_words(input_str):\n",
        "    words = input_str.split()\n",
        "    reversed_words = [word[::-1] for word in words]\n",
        "    result_str = ' '.join(reversed_words)\n",
        "    return result_str\n",
        "\n",
        "# Example Usage:\n",
        "input_string = \" l am a python programmer \"\n",
        "output = reverse_words(input_string)\n",
        "\n",
        "print(\"Output:\", output)"
      ],
      "metadata": {
        "id": "DXWZ5gWwqISB",
        "colab": {
          "base_uri": "https://localhost:8080/"
        },
        "outputId": "9238e9da-73a6-4e31-ac4b-4261268d83c2"
      },
      "execution_count": null,
      "outputs": [
        {
          "output_type": "stream",
          "name": "stdout",
          "text": [
            "Output: l ma a nohtyp remmargorp\n"
          ]
        }
      ]
    },
    {
      "cell_type": "code",
      "source": [],
      "metadata": {
        "id": "1Sc7SaK2qIU0"
      },
      "execution_count": null,
      "outputs": []
    },
    {
      "cell_type": "code",
      "source": [],
      "metadata": {
        "id": "5wXM8EVrqIXL"
      },
      "execution_count": null,
      "outputs": []
    },
    {
      "cell_type": "code",
      "source": [],
      "metadata": {
        "id": "pfn0oLimqIaX"
      },
      "execution_count": null,
      "outputs": []
    },
    {
      "cell_type": "code",
      "source": [],
      "metadata": {
        "id": "WcGZxzb_OBO_"
      },
      "execution_count": null,
      "outputs": []
    },
    {
      "cell_type": "code",
      "source": [],
      "metadata": {
        "id": "pBF-AI5iOBRp"
      },
      "execution_count": null,
      "outputs": []
    },
    {
      "cell_type": "code",
      "source": [],
      "metadata": {
        "id": "EGueLSs2OBTv"
      },
      "execution_count": null,
      "outputs": []
    },
    {
      "cell_type": "code",
      "source": [],
      "metadata": {
        "id": "5tAPLRBIOBZK"
      },
      "execution_count": null,
      "outputs": []
    },
    {
      "cell_type": "code",
      "source": [],
      "metadata": {
        "id": "oNjVUAGhOBdH"
      },
      "execution_count": null,
      "outputs": []
    }
  ]
}